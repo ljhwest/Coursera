{
 "cells": [
  {
   "cell_type": "code",
   "execution_count": 1,
   "id": "6308ca79",
   "metadata": {},
   "outputs": [],
   "source": [
    "# Import required libraries\n",
    "import pandas as pd\n",
    "import dash\n",
    "from dash import html\n",
    "from dash import dcc\n",
    "from dash.dependencies import Input, Output\n",
    "import plotly.express as px"
   ]
  },
  {
   "cell_type": "code",
   "execution_count": 2,
   "id": "c4a2292d",
   "metadata": {},
   "outputs": [],
   "source": [
    "# Read the airline data into pandas dataframe\n",
    "spacex_df = pd.read_csv(\"https://cf-courses-data.s3.us.cloud-object-storage.appdomain.cloud/IBM-DS0321EN-SkillsNetwork/datasets/spacex_launch_dash.csv\")\n",
    "max_payload = spacex_df['Payload Mass (kg)'].max()\n",
    "min_payload = spacex_df['Payload Mass (kg)'].min()"
   ]
  },
  {
   "cell_type": "code",
   "execution_count": 3,
   "id": "27b2b547",
   "metadata": {},
   "outputs": [],
   "source": [
    "# Create a dash application\n",
    "app=dash.Dash(__name__)"
   ]
  },
  {
   "cell_type": "code",
   "execution_count": 4,
   "id": "cb8a4f75",
   "metadata": {},
   "outputs": [],
   "source": [
    "# Create an app layout\n",
    "app.layout = html.Div(children=[html.H1('SpaceX Launch Records Dashboard',\n",
    "                                        style={'textAlign': 'center', 'color': '#503D36',\n",
    "                                               'font-size': 40}),\n",
    "                                # TASK 1: Add a dropdown list to enable Launch Site selection\n",
    "                                # The default select value is for ALL sites\n",
    "                                # dcc.Dropdown(id='site-dropdown',...)\n",
    "                                html.Div(dcc.Dropdown(id='site-dropdown',\n",
    "                                                      options=[{'label': 'All Sites', 'value': 'ALL'}, \n",
    "                                                               {'label': 'CCAFS LC-40', 'value': 'CCAFS LC-40'}, \n",
    "                                                               {'label': 'VAFB SLC-4E', 'value': 'VAFB SLC-4E'}, \n",
    "                                                               {'label': 'KSC LC-39A', 'value': 'KSC LC-39A'}, \n",
    "                                                               {'label': 'CCAFS SLC-40', 'value': 'CCAFS SLC-40'}],\n",
    "                                                      value='ALL')),\n",
    "                                html.Br(),\n",
    "\n",
    "                                # TASK 2: Add a pie chart to show the total successful launches count for all sites\n",
    "                                # If a specific launch site was selected, show the Success vs. Failed counts for the site\n",
    "                                html.Div(dcc.Graph(id='success-pie-chart')),\n",
    "                                html.Br(),\n",
    "\n",
    "                                html.P(\"Payload range (Kg):\"),\n",
    "                                # TASK 3: Add a slider to select payload range\n",
    "                                #dcc.RangeSlider(id='payload-slider',...)\n",
    "                                html.Div(dcc.RangeSlider(id='payload-slider',\n",
    "                                                         min=0, max=10000, step=1000,\n",
    "                                                        marks={0: '0', 2500: '2500', 5000: '5000', 7500: '7500', 10000: '10000'},\n",
    "                                                        value=[0,2500]\n",
    "                                )),\n",
    "                                html.Br(),\n",
    "\n",
    "                                # TASK 4: Add a scatter chart to show the correlation between payload and launch success\n",
    "                                html.Div(dcc.Graph(id='success-payload-scatter-chart')),\n",
    "                                ])"
   ]
  },
  {
   "cell_type": "code",
   "execution_count": 5,
   "id": "e35f12be",
   "metadata": {},
   "outputs": [],
   "source": [
    "# TASK 2:\n",
    "# Add a callback function for `site-dropdown` as input, `success-pie-chart` as output\n",
    "\n",
    "# Function decorator to specify function input and output\n",
    "@app.callback(Output(component_id='success-pie-chart', component_property='figure'),\n",
    "              Input(component_id='site-dropdown', component_property='value'))\n",
    "\n",
    "def get_pie_chart(entered_site):\n",
    "    if entered_site == 'ALL':\n",
    "        filtered_df = spacex_df\n",
    "        fig = px.pie(filtered_df, values='class', \n",
    "            names='Launch Site', \n",
    "            title='Total Success Launches for All Sites')\n",
    "        return fig\n",
    "    else:\n",
    "        # return the outcomes piechart for a selected site\n",
    "        filtered_df = spacex_df[['Launch Site','class']][spacex_df['Launch Site']==entered_site].groupby('class',as_index=False).count()\n",
    "        filtered_df.rename(columns={\"Launch Site\": \"count\"},inplace=True)\n",
    "        fig = px.pie(filtered_df, values='count', \n",
    "        names='class', \n",
    "            title='Total Success Launches for ' + entered_site)\n",
    "        return fig"
   ]
  },
  {
   "cell_type": "code",
   "execution_count": 6,
   "id": "64e1616e",
   "metadata": {},
   "outputs": [],
   "source": [
    "# TASK 4:\n",
    "# Add a callback function for `site-dropdown` and `payload-slider` as inputs, `success-payload-scatter-chart` as output\n",
    "@app.callback(Output(component_id='success-payload-scatter-chart', component_property='figure'),\n",
    "              Input(component_id='site-dropdown', component_property='value'), \n",
    "              Input(component_id=\"payload-slider\", component_property=\"value\"))\n",
    "\n",
    "def get_scatter_chart(entered_site, entered_payload):\n",
    "    if entered_site == 'ALL':\n",
    "        filtered_df = spacex_df[(spacex_df['Payload Mass (kg)']>=entered_payload[0]) & (spacex_df['Payload Mass (kg)']<= entered_payload[1])]\n",
    "        fig = px.scatter(filtered_df, x='Payload Mass (kg)', y='class', color='Booster Version Category',\n",
    "            title='Correlation between Payload and Success for All Sites')        \n",
    "        return fig\n",
    "    else:\n",
    "        filtered_df = spacex_df[(spacex_df['Launch Site']==entered_site) & (spacex_df['Payload Mass (kg)']>=entered_payload[0]) & (spacex_df['Payload Mass (kg)']<= entered_payload[1])]\n",
    "        fig = px.scatter(filtered_df, x='Payload Mass (kg)', y='class', color='Booster Version Category',\n",
    "            title='Correlation between Payload and Success for ' + entered_site)\n",
    "        return fig"
   ]
  },
  {
   "cell_type": "code",
   "execution_count": null,
   "id": "166dec9a",
   "metadata": {},
   "outputs": [
    {
     "name": "stdout",
     "output_type": "stream",
     "text": [
      "Dash is running on http://127.0.0.1:8050/\n",
      "\n",
      " * Serving Flask app \"__main__\" (lazy loading)\n",
      " * Environment: production\n",
      "   WARNING: This is a development server. Do not use it in a production deployment.\n",
      "   Use a production WSGI server instead.\n",
      " * Debug mode: off\n"
     ]
    },
    {
     "name": "stderr",
     "output_type": "stream",
     "text": [
      " * Running on http://127.0.0.1:8050/ (Press CTRL+C to quit)\n",
      "127.0.0.1 - - [08/Aug/2022 09:28:21] \"\u001b[37mGET / HTTP/1.1\u001b[0m\" 200 -\n",
      "127.0.0.1 - - [08/Aug/2022 09:28:22] \"\u001b[37mGET /_dash-layout HTTP/1.1\u001b[0m\" 200 -\n",
      "127.0.0.1 - - [08/Aug/2022 09:28:22] \"\u001b[37mGET /_dash-dependencies HTTP/1.1\u001b[0m\" 200 -\n",
      "127.0.0.1 - - [08/Aug/2022 09:28:22] \"\u001b[37mGET /_favicon.ico?v=2.0.0 HTTP/1.1\u001b[0m\" 200 -\n",
      "127.0.0.1 - - [08/Aug/2022 09:28:22] \"\u001b[37mGET /_dash-component-suites/dash/dcc/async-dropdown.js HTTP/1.1\u001b[0m\" 200 -\n",
      "127.0.0.1 - - [08/Aug/2022 09:28:22] \"\u001b[37mGET /_dash-component-suites/dash/dcc/async-graph.js HTTP/1.1\u001b[0m\" 200 -\n",
      "127.0.0.1 - - [08/Aug/2022 09:28:22] \"\u001b[37mGET /_dash-component-suites/dash/dcc/async-slider.js HTTP/1.1\u001b[0m\" 200 -\n",
      "127.0.0.1 - - [08/Aug/2022 09:28:22] \"\u001b[37mGET /_dash-component-suites/dash/dcc/async-plotlyjs.js HTTP/1.1\u001b[0m\" 200 -\n",
      "127.0.0.1 - - [08/Aug/2022 09:28:23] \"\u001b[37mPOST /_dash-update-component HTTP/1.1\u001b[0m\" 200 -\n",
      "127.0.0.1 - - [08/Aug/2022 09:28:23] \"\u001b[37mPOST /_dash-update-component HTTP/1.1\u001b[0m\" 200 -\n",
      "127.0.0.1 - - [08/Aug/2022 09:28:32] \"\u001b[37mPOST /_dash-update-component HTTP/1.1\u001b[0m\" 200 -\n",
      "127.0.0.1 - - [08/Aug/2022 09:28:32] \"\u001b[37mPOST /_dash-update-component HTTP/1.1\u001b[0m\" 200 -\n",
      "127.0.0.1 - - [08/Aug/2022 09:28:37] \"\u001b[37mPOST /_dash-update-component HTTP/1.1\u001b[0m\" 200 -\n",
      "127.0.0.1 - - [08/Aug/2022 09:28:37] \"\u001b[37mPOST /_dash-update-component HTTP/1.1\u001b[0m\" 200 -\n",
      "127.0.0.1 - - [08/Aug/2022 09:28:40] \"\u001b[37mPOST /_dash-update-component HTTP/1.1\u001b[0m\" 200 -\n",
      "127.0.0.1 - - [08/Aug/2022 09:28:40] \"\u001b[37mPOST /_dash-update-component HTTP/1.1\u001b[0m\" 200 -\n",
      "127.0.0.1 - - [08/Aug/2022 09:28:42] \"\u001b[37mPOST /_dash-update-component HTTP/1.1\u001b[0m\" 200 -\n",
      "127.0.0.1 - - [08/Aug/2022 09:28:46] \"\u001b[37mPOST /_dash-update-component HTTP/1.1\u001b[0m\" 200 -\n",
      "127.0.0.1 - - [09/Aug/2022 21:14:54] \"\u001b[37mGET / HTTP/1.1\u001b[0m\" 200 -\n",
      "127.0.0.1 - - [09/Aug/2022 21:14:54] \"\u001b[37mGET /_dash-component-suites/dash/deps/polyfill@7.v2_0_0m1642292066.12.1.min.js HTTP/1.1\u001b[0m\" 200 -\n",
      "127.0.0.1 - - [09/Aug/2022 21:14:54] \"\u001b[37mGET /_dash-component-suites/dash/deps/react@16.v2_0_0m1642292066.14.0.min.js HTTP/1.1\u001b[0m\" 200 -\n",
      "127.0.0.1 - - [09/Aug/2022 21:14:54] \"\u001b[37mGET /_dash-component-suites/dash/deps/react-dom@16.v2_0_0m1642292066.14.0.min.js HTTP/1.1\u001b[0m\" 200 -\n",
      "127.0.0.1 - - [09/Aug/2022 21:14:54] \"\u001b[37mGET /_dash-component-suites/dash/deps/prop-types@15.v2_0_0m1642292066.7.2.min.js HTTP/1.1\u001b[0m\" 200 -\n",
      "127.0.0.1 - - [09/Aug/2022 21:14:54] \"\u001b[37mGET /_dash-component-suites/dash/dash-renderer/build/dash_renderer.v2_0_0m1642292066.min.js HTTP/1.1\u001b[0m\" 200 -\n",
      "127.0.0.1 - - [09/Aug/2022 21:14:54] \"\u001b[37mGET /_dash-component-suites/dash/dcc/dash_core_components.v2_0_0m1642292066.js HTTP/1.1\u001b[0m\" 200 -\n",
      "127.0.0.1 - - [09/Aug/2022 21:14:54] \"\u001b[37mGET /_dash-component-suites/dash/dcc/dash_core_components-shared.v2_0_0m1642292066.js HTTP/1.1\u001b[0m\" 200 -\n",
      "127.0.0.1 - - [09/Aug/2022 21:14:54] \"\u001b[37mGET /_dash-component-suites/dash/html/dash_html_components.v2_0_0m1642292067.min.js HTTP/1.1\u001b[0m\" 200 -\n",
      "127.0.0.1 - - [09/Aug/2022 21:14:54] \"\u001b[37mGET /_dash-component-suites/dash/dash_table/bundle.v5_0_0m1642292066.js HTTP/1.1\u001b[0m\" 200 -\n",
      "127.0.0.1 - - [09/Aug/2022 21:14:55] \"\u001b[37mGET /_dash-layout HTTP/1.1\u001b[0m\" 200 -\n",
      "127.0.0.1 - - [09/Aug/2022 21:14:55] \"\u001b[37mGET /_dash-dependencies HTTP/1.1\u001b[0m\" 200 -\n",
      "127.0.0.1 - - [09/Aug/2022 21:14:55] \"\u001b[37mGET /_dash-component-suites/dash/dcc/async-dropdown.js HTTP/1.1\u001b[0m\" 200 -\n",
      "127.0.0.1 - - [09/Aug/2022 21:14:55] \"\u001b[37mGET /_dash-component-suites/dash/dcc/async-graph.js HTTP/1.1\u001b[0m\" 200 -\n",
      "127.0.0.1 - - [09/Aug/2022 21:14:55] \"\u001b[37mGET /_dash-component-suites/dash/dcc/async-slider.js HTTP/1.1\u001b[0m\" 200 -\n",
      "127.0.0.1 - - [09/Aug/2022 21:14:55] \"\u001b[37mGET /_dash-component-suites/dash/dcc/async-plotlyjs.js HTTP/1.1\u001b[0m\" 200 -\n",
      "127.0.0.1 - - [09/Aug/2022 21:14:55] \"\u001b[37mPOST /_dash-update-component HTTP/1.1\u001b[0m\" 200 -\n",
      "127.0.0.1 - - [09/Aug/2022 21:14:55] \"\u001b[37mPOST /_dash-update-component HTTP/1.1\u001b[0m\" 200 -\n"
     ]
    }
   ],
   "source": [
    "# Run the app\n",
    "if __name__ == '__main__':\n",
    "    app.run_server()"
   ]
  }
 ],
 "metadata": {
  "kernelspec": {
   "display_name": "Python 3",
   "language": "python",
   "name": "python3"
  },
  "language_info": {
   "codemirror_mode": {
    "name": "ipython",
    "version": 3
   },
   "file_extension": ".py",
   "mimetype": "text/x-python",
   "name": "python",
   "nbconvert_exporter": "python",
   "pygments_lexer": "ipython3",
   "version": "3.8.8"
  }
 },
 "nbformat": 4,
 "nbformat_minor": 5
}
